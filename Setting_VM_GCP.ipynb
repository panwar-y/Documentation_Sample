{
 "cells": [
  {
   "cell_type": "markdown",
   "id": "b363a083-33ab-4753-99c1-3d356b96d8b2",
   "metadata": {},
   "source": [
    "#### This document goes through the process of setting up VM, gcloud etc access required for NGS Analysis."
   ]
  },
  {
   "cell_type": "markdown",
   "id": "56b0ef20-5945-49cb-8598-a4527dcfab31",
   "metadata": {
    "jp-MarkdownHeadingCollapsed": true,
    "tags": []
   },
   "source": [
    "### 1st Step : Install the gcloud CLI.\n",
    "\n",
    "#### Check Python version to confirm python installation. \n",
    "\n",
    "    pyhton3 -V\n",
    "    \n",
    "#### Then download the package according to your machine platform. link to the cli packages: https://cloud.google.com/sdk/docs/install\n",
    "#### Here we'll be downloading for macOS 64-bit (ARM64, Apple M1 silicon):\n",
    "\n",
    "    wget https://dl.google.com/dl/cloudsdk/channels/rapid/downloads/google-cloud-cli-417.0.0-darwin-arm.tar.gz\n",
    "\n",
    "##### The file is in tar.gz format, so we'll unzip it:\n",
    "\n",
    "    tar -xvf google-cloud-cli-417.0.0-darwin-arm.tar.gz\n",
    "    \n",
    "#### go to the file\n",
    "\n",
    "    cd google-cloud-sdk\n",
    "    \n",
    "#### Install gcloud CLI\n",
    "\n",
    "    bash install.sh\n",
    "\n",
    "### 2nd Step : Initialize the gcloud CLI\n",
    "\n",
    "    ./google-cloud-sdk/bin/gcloud init\n",
    "\n",
    "#### In this step, it will ask you:\n",
    "##### To login with gcloud\n",
    "##### Pick cloud project to use:  Select [1] starlit-myth-339218.\n",
    "##### Do you want to configure a default Compute Region and Zone? (Y/n)? : Y\n",
    "##### Select us-central1-a\n",
    "\n"
   ]
  },
  {
   "cell_type": "markdown",
   "id": "e2cfd3c5-6674-471c-914a-e46e07ffd8f6",
   "metadata": {},
   "source": [
    "### 3rd Step : \n",
    "\n",
    "#### Go to the bucket storage to access the VM\n",
    "#### Then, Click SSH to initiate access. A window will pop up with title \"SSH with Browser\".\n",
    "#### Follow the code below:\n",
    "    sudo su \n",
    "#### then, create/change password for the account:for My case , it was : sudo passwd yash_panwar \n",
    "    sudo passwd account_name\n",
    "\n"
   ]
  },
  {
   "cell_type": "markdown",
   "id": "d2413522-c1e2-42e5-9250-92cb0b8cbff8",
   "metadata": {},
   "source": [
    "### 4th Step :\n",
    "\n",
    "#### Open local terminal and run this command to login into VM:(for my case, vm was yash_panwar)\n",
    "    gcloud compute ssh vm_name\n",
    "#### It will ask Do you want to continue, Press Y. and enter password that was set earlier. and no paraphrase was set.\n",
    "\n"
   ]
  },
  {
   "cell_type": "markdown",
   "id": "ec1e0b3c-b716-47a2-8f49-acbc589db6d9",
   "metadata": {},
   "source": [
    "### 5th Step: Installing miniconda and Jupyterlab\n",
    "#### Enter your home directory, you'll find miniconda.sh,\n",
    "    cd /home/account_name\n",
    "    sha256sum miniconda.sh\n",
    "    bash miniconda.sh\n",
    "    \n",
    "#### Close the terminal and open it again, to verify installation, run:\n",
    "    conda list\n",
    "    which conda\n",
    "\n",
    "#### Installing jupyterlab (It is a heavy version of jupyter notebook)\n",
    "    conda install -c conda-forge jupyterlab\n",
    "##### (If it asks to proceed, type Y)\n"
   ]
  },
  {
   "cell_type": "markdown",
   "id": "454ce49d-b856-4974-859e-b57a5f3a0862",
   "metadata": {},
   "source": [
    "#### Follow the code for configuring jupyterlab\n",
    "\n",
    "    jupyter server password\n",
    "    jupyter server --generate-config\n",
    "#### Verify files\n",
    "    ls .jupyter\n",
    "    \n",
    "#### We need to change a few things in jupyter_server_config.py\n",
    "     vi .jupyter/jupyter_server_config.py\n",
    "     \n",
    "#### Then search for the following, remove '#' and set as given:(use / to search)\n",
    "    c.ServerApp.allow_remote_access = True\n",
    "    c.ServerApp.ip = \"*\"\n",
    "    c.ServerApp.open_browser = False\n",
    "#### Find c.ServerApp.password = ''. We need to get the password to fill this. So open another terminal window, login into your vm and follow the code:\n",
    "\n",
    "    vi .jupyter/jupyter_server_config.json\n",
    "##### Copy the password and paste it into c.ServerApp.password = ''\n",
    "\n",
    "###### (HINT : If you're unable to copy the password follow this in a new terminal locally:\n",
    "    gcloud compute scp vm_name:/home/user_name/.jupyter/jupyter_server_config.json\n",
    "\n",
    "###### find and open the file using vi, and then you can easily copy and paste password to c.ServerApp.password = '')\n",
    "\n",
    "    "
   ]
  },
  {
   "cell_type": "markdown",
   "id": "7f218286-5514-49c7-90da-b8b8dabc717b",
   "metadata": {},
   "source": [
    "### Important Note\n",
    "#### To open jupyter notebook from your VM, you need same port number while loging into the vm and opening the jupyter notebook . So I now usually login and open jupyterlab/notebook as following:\n",
    "\n",
    "    gcloud compute ssh ngs-coop -- -L 8080:localhost:8080\n",
    "    jupyter lab --no-browser --port 8080\n",
    "\n",
    "    "
   ]
  },
  {
   "cell_type": "code",
   "execution_count": null,
   "id": "c2a8484d-3ca4-4a00-b2eb-d1a0cc988b9c",
   "metadata": {},
   "outputs": [],
   "source": []
  }
 ],
 "metadata": {
  "kernelspec": {
   "display_name": "Python 3 (ipykernel)",
   "language": "python",
   "name": "python3"
  },
  "language_info": {
   "codemirror_mode": {
    "name": "ipython",
    "version": 3
   },
   "file_extension": ".py",
   "mimetype": "text/x-python",
   "name": "python",
   "nbconvert_exporter": "python",
   "pygments_lexer": "ipython3",
   "version": "3.9.13"
  }
 },
 "nbformat": 4,
 "nbformat_minor": 5
}
